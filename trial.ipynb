{
 "cells": [
  {
   "cell_type": "code",
   "execution_count": 18,
   "metadata": {
    "collapsed": false
   },
   "outputs": [],
   "source": [
    "import cv2\n",
    "import numpy as np"
   ]
  },
  {
   "cell_type": "code",
   "execution_count": 19,
   "metadata": {
    "collapsed": false
   },
   "outputs": [],
   "source": [
    "img = cv2.imread('image2.jpg')\n"
   ]
  },
  {
   "cell_type": "code",
   "execution_count": 20,
   "metadata": {
    "collapsed": true
   },
   "outputs": [],
   "source": [
    "cv2.imshow('image1', img)\n",
    "cv2.waitKey(0)\n",
    "cv2.destroyAllWindows()"
   ]
  },
  {
   "cell_type": "code",
   "execution_count": 21,
   "metadata": {
    "collapsed": false
   },
   "outputs": [],
   "source": [
    "small = cv2.resize(img, (0,0), fx=0.5, fy=0.5) "
   ]
  },
  {
   "cell_type": "code",
   "execution_count": 22,
   "metadata": {
    "collapsed": false
   },
   "outputs": [],
   "source": [
    "img = cv2.cvtColor( img, cv2.COLOR_RGB2GRAY )"
   ]
  },
  {
   "cell_type": "code",
   "execution_count": 23,
   "metadata": {
    "collapsed": true
   },
   "outputs": [],
   "source": [
    "cv2.imshow('image1', img)\n",
    "cv2.waitKey(0)\n",
    "cv2.destroyAllWindows()"
   ]
  },
  {
   "cell_type": "code",
   "execution_count": 26,
   "metadata": {
    "collapsed": false
   },
   "outputs": [],
   "source": [
    "ret, threshinv = cv2.threshold(img,128,255,cv2.THRESH_OTSU)"
   ]
  },
  {
   "cell_type": "code",
   "execution_count": 27,
   "metadata": {
    "collapsed": false
   },
   "outputs": [],
   "source": [
    "cv2.imshow('image1', threshinv)\n",
    "cv2.waitKey(0)\n",
    "cv2.destroyAllWindows()"
   ]
  },
  {
   "cell_type": "code",
   "execution_count": 28,
   "metadata": {
    "collapsed": true
   },
   "outputs": [],
   "source": [
    "thresh = 255-threshinv"
   ]
  },
  {
   "cell_type": "code",
   "execution_count": 29,
   "metadata": {
    "collapsed": false
   },
   "outputs": [],
   "source": [
    "from skimage import measure\n",
    "from skimage import filter as filters\n",
    "import matplotlib.pyplot as plt\n",
    "\n",
    "blobs_labels = measure.label(thresh, background=0)\n",
    "\n",
    "plt.figure(figsize=(15, 8))\n",
    "plt.subplot(131)\n",
    "plt.imshow(thresh, cmap='gray')\n",
    "plt.axis('off')\n",
    "\n",
    "plt.subplot(132)\n",
    "plt.imshow(blobs_labels, cmap='spectral')\n",
    "plt.axis('off')\n",
    "\n",
    "plt.tight_layout()\n",
    "plt.show()"
   ]
  },
  {
   "cell_type": "code",
   "execution_count": 30,
   "metadata": {
    "collapsed": false
   },
   "outputs": [
    {
     "data": {
      "text/plain": [
       "[5,\n",
       " 1,\n",
       " 3,\n",
       " 7,\n",
       " 8,\n",
       " 17,\n",
       " 46,\n",
       " 17,\n",
       " 22,\n",
       " 9,\n",
       " 26,\n",
       " 27,\n",
       " 4,\n",
       " 11,\n",
       " 11,\n",
       " 8,\n",
       " 167,\n",
       " 2415,\n",
       " 110,\n",
       " 1,\n",
       " 106,\n",
       " 172,\n",
       " 93,\n",
       " 205,\n",
       " 199,\n",
       " 193,\n",
       " 155,\n",
       " 364,\n",
       " 311,\n",
       " 260,\n",
       " 12,\n",
       " 13,\n",
       " 8,\n",
       " 7,\n",
       " 11,\n",
       " 7,\n",
       " 8,\n",
       " 2,\n",
       " 3,\n",
       " 2,\n",
       " 1,\n",
       " 2,\n",
       " 1,\n",
       " 3083,\n",
       " 1244,\n",
       " 92,\n",
       " 1,\n",
       " 2,\n",
       " 4]"
      ]
     },
     "execution_count": 30,
     "metadata": {},
     "output_type": "execute_result"
    }
   ],
   "source": [
    "properties = measure.regionprops(blobs_labels)\n",
    "[prop.area for prop in properties]"
   ]
  },
  {
   "cell_type": "code",
   "execution_count": 31,
   "metadata": {
    "collapsed": false
   },
   "outputs": [
    {
     "data": {
      "text/plain": [
       "[(slice(0, 4, None), slice(99, 102, None)),\n",
       " (slice(4, 5, None), slice(103, 104, None)),\n",
       " (slice(5, 6, None), slice(107, 110, None)),\n",
       " (slice(6, 7, None), slice(115, 122, None)),\n",
       " (slice(7, 8, None), slice(126, 134, None)),\n",
       " (slice(8, 9, None), slice(139, 156, None)),\n",
       " (slice(12, 16, None), slice(0, 42, None)),\n",
       " (slice(12, 19, None), slice(227, 232, None)),\n",
       " (slice(12, 19, None), slice(234, 239, None)),\n",
       " (slice(13, 17, None), slice(240, 244, None)),\n",
       " (slice(16, 18, None), slice(44, 70, None)),\n",
       " (slice(18, 20, None), slice(72, 99, None)),\n",
       " (slice(18, 20, None), slice(239, 243, None)),\n",
       " (slice(20, 21, None), slice(106, 117, None)),\n",
       " (slice(21, 22, None), slice(120, 131, None)),\n",
       " (slice(22, 23, None), slice(139, 147, None)),\n",
       " (slice(23, 30, None), slice(150, 244, None)),\n",
       " (slice(51, 126, None), slice(0, 232, None)),\n",
       " (slice(67, 81, None), slice(41, 55, None)),\n",
       " (slice(69, 70, None), slice(40, 41, None)),\n",
       " (slice(70, 98, None), slice(199, 208, None)),\n",
       " (slice(71, 100, None), slice(175, 186, None)),\n",
       " (slice(71, 99, None), slice(189, 196, None)),\n",
       " (slice(72, 104, None), slice(134, 145, None)),\n",
       " (slice(72, 103, None), slice(147, 160, None)),\n",
       " (slice(72, 101, None), slice(162, 173, None)),\n",
       " (slice(73, 105, None), slice(118, 128, None)),\n",
       " (slice(74, 110, None), slice(60, 78, None)),\n",
       " (slice(74, 108, None), slice(80, 96, None)),\n",
       " (slice(74, 106, None), slice(99, 113, None)),\n",
       " (slice(84, 96, None), slice(35, 36, None)),\n",
       " (slice(91, 99, None), slice(55, 60, None)),\n",
       " (slice(92, 99, None), slice(47, 49, None)),\n",
       " (slice(93, 100, None), slice(44, 45, None)),\n",
       " (slice(94, 100, None), slice(49, 53, None)),\n",
       " (slice(94, 100, None), slice(55, 57, None)),\n",
       " (slice(101, 109, None), slice(36, 37, None)),\n",
       " (slice(117, 118, None), slice(128, 130, None)),\n",
       " (slice(118, 120, None), slice(44, 47, None)),\n",
       " (slice(125, 126, None), slice(56, 58, None)),\n",
       " (slice(126, 127, None), slice(47, 48, None)),\n",
       " (slice(126, 127, None), slice(50, 52, None)),\n",
       " (slice(127, 128, None), slice(44, 45, None)),\n",
       " (slice(138, 184, None), slice(168, 275, None)),\n",
       " (slice(154, 184, None), slice(116, 174, None)),\n",
       " (slice(176, 181, None), slice(20, 51, None)),\n",
       " (slice(180, 181, None), slice(2, 3, None)),\n",
       " (slice(180, 181, None), slice(5, 7, None)),\n",
       " (slice(183, 184, None), slice(97, 101, None))]"
      ]
     },
     "execution_count": 31,
     "metadata": {},
     "output_type": "execute_result"
    }
   ],
   "source": [
    "from scipy import ndimage\n",
    "ndimage.find_objects(blobs_labels)"
   ]
  },
  {
   "cell_type": "code",
   "execution_count": 32,
   "metadata": {
    "collapsed": false
   },
   "outputs": [
    {
     "data": {
      "text/plain": [
       "array([[25, 25, 25, 25, 25, 25, 25, 25, 25, 25, 25,  0,  0],\n",
       "       [25, 25, 25, 25, 25, 25, 25, 25, 25, 25, 25,  0,  0],\n",
       "       [25, 25, 25, 25, 25, 25, 25, 25, 25, 25, 25,  0,  0],\n",
       "       [25, 25, 25, 25, 25, 25, 25, 25, 25, 25, 25,  0,  0],\n",
       "       [25, 25, 25, 25, 25, 25, 25, 25, 25,  0,  0,  0,  0],\n",
       "       [25, 25, 25, 25,  0,  0,  0,  0,  0,  0,  0,  0,  0],\n",
       "       [25, 25, 25, 25,  0,  0,  0,  0,  0,  0,  0,  0,  0],\n",
       "       [ 0, 25, 25, 25,  0,  0,  0,  0,  0,  0,  0,  0,  0],\n",
       "       [ 0, 25, 25, 25,  0,  0,  0,  0,  0,  0,  0,  0,  0],\n",
       "       [ 0, 25, 25, 25,  0,  0,  0,  0,  0,  0,  0,  0,  0],\n",
       "       [ 0, 25, 25, 25,  0,  0,  0,  0,  0,  0,  0,  0,  0],\n",
       "       [ 0, 25, 25, 25,  0,  0,  0,  0,  0,  0,  0,  0,  0],\n",
       "       [ 0, 25, 25, 25,  0,  0,  0,  0,  0,  0,  0,  0,  0],\n",
       "       [ 0, 25, 25, 25, 25, 25, 25, 25, 25, 25,  0,  0,  0],\n",
       "       [ 0, 25, 25, 25, 25, 25, 25, 25, 25, 25,  0,  0,  0],\n",
       "       [ 0, 25, 25, 25, 25, 25, 25, 25, 25, 25,  0,  0,  0],\n",
       "       [ 0, 25, 25, 25, 25, 25, 25, 25, 25, 25,  0,  0,  0],\n",
       "       [ 0, 25, 25, 25, 25, 25,  0,  0,  0,  0,  0,  0,  0],\n",
       "       [ 0, 25, 25, 25, 25,  0,  0,  0,  0,  0,  0,  0,  0],\n",
       "       [ 0, 25, 25, 25, 25,  0,  0,  0,  0,  0,  0,  0,  0],\n",
       "       [ 0, 25, 25, 25, 25,  0,  0,  0,  0,  0,  0,  0,  0],\n",
       "       [ 0, 25, 25, 25, 25,  0,  0,  0,  0,  0,  0,  0,  0],\n",
       "       [ 0,  0, 25, 25, 25,  0,  0,  0,  0,  0,  0,  0,  0],\n",
       "       [ 0,  0, 25, 25, 25,  0,  0,  0,  0,  0,  0,  0,  0],\n",
       "       [ 0,  0, 25, 25, 25,  0,  0,  0,  0,  0,  0,  0,  0],\n",
       "       [ 0,  0, 25, 25, 25, 25,  0, 25, 25, 25, 25, 25, 25],\n",
       "       [ 0,  0, 25, 25, 25, 25, 25, 25, 25, 25, 25, 25, 25],\n",
       "       [ 0,  0, 25, 25, 25, 25, 25, 25, 25, 25, 25, 25, 25],\n",
       "       [ 0,  0, 25, 25, 25, 25, 25, 25, 25, 25, 25, 25, 25],\n",
       "       [ 0,  0, 25, 25, 25, 25, 25, 25, 25, 25, 25, 25,  0],\n",
       "       [ 0,  0, 25,  0,  0,  0,  0,  0,  0,  0,  0,  0,  0]], dtype=int64)"
      ]
     },
     "execution_count": 32,
     "metadata": {},
     "output_type": "execute_result"
    }
   ],
   "source": [
    "loc = ndimage.find_objects(blobs_labels)[24]\n",
    "E = blobs_labels[loc]\n",
    "E"
   ]
  },
  {
   "cell_type": "code",
   "execution_count": null,
   "metadata": {
    "collapsed": false
   },
   "outputs": [],
   "source": []
  },
  {
   "cell_type": "code",
   "execution_count": null,
   "metadata": {
    "collapsed": false
   },
   "outputs": [],
   "source": []
  },
  {
   "cell_type": "code",
   "execution_count": null,
   "metadata": {
    "collapsed": false
   },
   "outputs": [],
   "source": []
  },
  {
   "cell_type": "code",
   "execution_count": null,
   "metadata": {
    "collapsed": true
   },
   "outputs": [],
   "source": []
  },
  {
   "cell_type": "code",
   "execution_count": null,
   "metadata": {
    "collapsed": false
   },
   "outputs": [],
   "source": []
  },
  {
   "cell_type": "code",
   "execution_count": null,
   "metadata": {
    "collapsed": true
   },
   "outputs": [],
   "source": []
  },
  {
   "cell_type": "code",
   "execution_count": null,
   "metadata": {
    "collapsed": true
   },
   "outputs": [],
   "source": []
  }
 ],
 "metadata": {
  "kernelspec": {
   "display_name": "Python [Root]",
   "language": "python",
   "name": "Python [Root]"
  },
  "language_info": {
   "codemirror_mode": {
    "name": "ipython",
    "version": 3
   },
   "file_extension": ".py",
   "mimetype": "text/x-python",
   "name": "python",
   "nbconvert_exporter": "python",
   "pygments_lexer": "ipython3",
   "version": "3.5.2"
  }
 },
 "nbformat": 4,
 "nbformat_minor": 0
}
